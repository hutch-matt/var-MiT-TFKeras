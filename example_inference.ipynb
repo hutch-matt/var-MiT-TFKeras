{
 "cells": [
  {
   "cell_type": "markdown",
   "metadata": {},
   "source": [
    "Copyright 2020, MIT Lincoln Laboratory\n",
    "\n",
    "SPDX-License-Identifier: BSD-2-Clause"
   ]
  },
  {
   "cell_type": "markdown",
   "metadata": {},
   "source": [
    "# Example of Moments in Time Model Inference\n",
    "\n",
    "The following loads and parses a video from the \"Skiing\" class of the UCF101 dataset.  This notebook shows a minimum example of inference on this video which the model has not previously seen.\n",
    "\n",
    "View and (optionally) modify the TODOs below to try your own video on a selection of these models."
   ]
  },
  {
   "cell_type": "markdown",
   "metadata": {},
   "source": [
    "## Setup"
   ]
  },
  {
   "cell_type": "markdown",
   "metadata": {},
   "source": [
    "## Get UCF101 video dataset\n",
    "\n",
    "Go to https://www.crcv.ucf.edu/data/UCF101.php and download the dataset.  Locate the 'Skiing' class and choose a video."
   ]
  },
  {
   "cell_type": "markdown",
   "metadata": {},
   "source": [
    "### Import Packages and Methods"
   ]
  },
  {
   "cell_type": "code",
   "execution_count": 1,
   "metadata": {},
   "outputs": [
    {
     "name": "stderr",
     "output_type": "stream",
     "text": [
      "/state/partition1/llgrid/pkg/anaconda/anaconda3-2020a/lib/python3.6/site-packages/tensorflow/python/framework/dtypes.py:516: FutureWarning: Passing (type, 1) or '1type' as a synonym of type is deprecated; in a future version of numpy, it will be understood as (type, (1,)) / '(1,)type'.\n",
      "  _np_qint8 = np.dtype([(\"qint8\", np.int8, 1)])\n",
      "/state/partition1/llgrid/pkg/anaconda/anaconda3-2020a/lib/python3.6/site-packages/tensorflow/python/framework/dtypes.py:517: FutureWarning: Passing (type, 1) or '1type' as a synonym of type is deprecated; in a future version of numpy, it will be understood as (type, (1,)) / '(1,)type'.\n",
      "  _np_quint8 = np.dtype([(\"quint8\", np.uint8, 1)])\n",
      "/state/partition1/llgrid/pkg/anaconda/anaconda3-2020a/lib/python3.6/site-packages/tensorflow/python/framework/dtypes.py:518: FutureWarning: Passing (type, 1) or '1type' as a synonym of type is deprecated; in a future version of numpy, it will be understood as (type, (1,)) / '(1,)type'.\n",
      "  _np_qint16 = np.dtype([(\"qint16\", np.int16, 1)])\n",
      "/state/partition1/llgrid/pkg/anaconda/anaconda3-2020a/lib/python3.6/site-packages/tensorflow/python/framework/dtypes.py:519: FutureWarning: Passing (type, 1) or '1type' as a synonym of type is deprecated; in a future version of numpy, it will be understood as (type, (1,)) / '(1,)type'.\n",
      "  _np_quint16 = np.dtype([(\"quint16\", np.uint16, 1)])\n",
      "/state/partition1/llgrid/pkg/anaconda/anaconda3-2020a/lib/python3.6/site-packages/tensorflow/python/framework/dtypes.py:520: FutureWarning: Passing (type, 1) or '1type' as a synonym of type is deprecated; in a future version of numpy, it will be understood as (type, (1,)) / '(1,)type'.\n",
      "  _np_qint32 = np.dtype([(\"qint32\", np.int32, 1)])\n",
      "/state/partition1/llgrid/pkg/anaconda/anaconda3-2020a/lib/python3.6/site-packages/tensorflow/python/framework/dtypes.py:525: FutureWarning: Passing (type, 1) or '1type' as a synonym of type is deprecated; in a future version of numpy, it will be understood as (type, (1,)) / '(1,)type'.\n",
      "  np_resource = np.dtype([(\"resource\", np.ubyte, 1)])\n"
     ]
    },
    {
     "name": "stdout",
     "output_type": "stream",
     "text": [
      "WARNING:tensorflow:From /state/partition1/llgrid/pkg/anaconda/anaconda3-2020a/lib/python3.6/site-packages/horovod/tensorflow/__init__.py:117: The name tf.global_variables is deprecated. Please use tf.compat.v1.global_variables instead.\n",
      "\n",
      "WARNING:tensorflow:From /state/partition1/llgrid/pkg/anaconda/anaconda3-2020a/lib/python3.6/site-packages/horovod/tensorflow/__init__.py:143: The name tf.get_default_graph is deprecated. Please use tf.compat.v1.get_default_graph instead.\n",
      "\n"
     ]
    },
    {
     "name": "stderr",
     "output_type": "stream",
     "text": [
      "/state/partition1/llgrid/pkg/anaconda/anaconda3-2020a/lib/python3.6/site-packages/tensorboard/compat/tensorflow_stub/dtypes.py:541: FutureWarning: Passing (type, 1) or '1type' as a synonym of type is deprecated; in a future version of numpy, it will be understood as (type, (1,)) / '(1,)type'.\n",
      "  _np_qint8 = np.dtype([(\"qint8\", np.int8, 1)])\n",
      "/state/partition1/llgrid/pkg/anaconda/anaconda3-2020a/lib/python3.6/site-packages/tensorboard/compat/tensorflow_stub/dtypes.py:542: FutureWarning: Passing (type, 1) or '1type' as a synonym of type is deprecated; in a future version of numpy, it will be understood as (type, (1,)) / '(1,)type'.\n",
      "  _np_quint8 = np.dtype([(\"quint8\", np.uint8, 1)])\n",
      "/state/partition1/llgrid/pkg/anaconda/anaconda3-2020a/lib/python3.6/site-packages/tensorboard/compat/tensorflow_stub/dtypes.py:543: FutureWarning: Passing (type, 1) or '1type' as a synonym of type is deprecated; in a future version of numpy, it will be understood as (type, (1,)) / '(1,)type'.\n",
      "  _np_qint16 = np.dtype([(\"qint16\", np.int16, 1)])\n",
      "/state/partition1/llgrid/pkg/anaconda/anaconda3-2020a/lib/python3.6/site-packages/tensorboard/compat/tensorflow_stub/dtypes.py:544: FutureWarning: Passing (type, 1) or '1type' as a synonym of type is deprecated; in a future version of numpy, it will be understood as (type, (1,)) / '(1,)type'.\n",
      "  _np_quint16 = np.dtype([(\"quint16\", np.uint16, 1)])\n",
      "/state/partition1/llgrid/pkg/anaconda/anaconda3-2020a/lib/python3.6/site-packages/tensorboard/compat/tensorflow_stub/dtypes.py:545: FutureWarning: Passing (type, 1) or '1type' as a synonym of type is deprecated; in a future version of numpy, it will be understood as (type, (1,)) / '(1,)type'.\n",
      "  _np_qint32 = np.dtype([(\"qint32\", np.int32, 1)])\n",
      "/state/partition1/llgrid/pkg/anaconda/anaconda3-2020a/lib/python3.6/site-packages/tensorboard/compat/tensorflow_stub/dtypes.py:550: FutureWarning: Passing (type, 1) or '1type' as a synonym of type is deprecated; in a future version of numpy, it will be understood as (type, (1,)) / '(1,)type'.\n",
      "  np_resource = np.dtype([(\"resource\", np.ubyte, 1)])\n"
     ]
    }
   ],
   "source": [
    "import os\n",
    "import numpy as np\n",
    "import re\n",
    "import sys                   \n",
    "import glob\n",
    "import argparse\n",
    "import functools\n",
    "import subprocess\n",
    "from PIL import Image\n",
    "import time\n",
    "import torch\n",
    "from torchvision import transforms as trn\n",
    "import h5py\n",
    "import shutil\n",
    "from tensorflow.python.keras.utils import to_categorical\n",
    "from utils import *"
   ]
  },
  {
   "cell_type": "markdown",
   "metadata": {},
   "source": [
    "### Enable Model File Reading"
   ]
  },
  {
   "cell_type": "code",
   "execution_count": 2,
   "metadata": {},
   "outputs": [
    {
     "data": {
      "text/plain": [
       "0"
      ]
     },
     "execution_count": 2,
     "metadata": {},
     "output_type": "execute_result"
    }
   ],
   "source": [
    "os.putenv(\"HDF5_USE_FILE_LOCKING\", \"FALSE\")\n",
    "os.system(\"export $HDF5_USE_FILE_LOCKING\")"
   ]
  },
  {
   "cell_type": "markdown",
   "metadata": {},
   "source": [
    "### Create Moments in Time One-Hot Class Labels"
   ]
  },
  {
   "cell_type": "code",
   "execution_count": 3,
   "metadata": {},
   "outputs": [
    {
     "name": "stdout",
     "output_type": "stream",
     "text": [
      "339 total classes\n"
     ]
    }
   ],
   "source": [
    "set_dir = '/home/gridsan/groups/Moments_in_Time/data-copy/data/parsed/ValidationBatch_90'\n",
    "# Read folders in set directory. Folders should correspond to classes in this case\n",
    "categories = os.listdir(set_dir)\n",
    "# Remove any extraneous .ipynb files\n",
    "new_categories = []\n",
    "for cat in categories:\n",
    "    if '.ipynb' not in cat:\n",
    "        new_categories.append(cat)\n",
    "categories = new_categories\n",
    "# Create one-hot vector labels\n",
    "categories_labels = dict()\n",
    "for i in range(len(categories)):\n",
    "    categories_labels[categories[i]] = to_categorical(np.array(i), num_classes=len(categories))\n",
    "print(len(categories_labels), 'total classes')"
   ]
  },
  {
   "cell_type": "markdown",
   "metadata": {},
   "source": [
    "## Parse Video"
   ]
  },
  {
   "cell_type": "markdown",
   "metadata": {},
   "source": [
    "### Specify Input"
   ]
  },
  {
   "cell_type": "code",
   "execution_count": 4,
   "metadata": {},
   "outputs": [],
   "source": [
    "# TODO:\n",
    "# Specify input video and corresponding ground truth Moments in Time class\n",
    "video_file = 'example_video.avi' ### TODO: add your video file from the UCF101 dataset here ###\n",
    "ucf101_class_gt = 'Skiing'\n",
    "mit_class_gt = 'skiing'"
   ]
  },
  {
   "cell_type": "markdown",
   "metadata": {},
   "source": [
    "### Load and Parse"
   ]
  },
  {
   "cell_type": "code",
   "execution_count": 5,
   "metadata": {},
   "outputs": [
    {
     "name": "stdout",
     "output_type": "stream",
     "text": [
      "Video shape: (200, 3, 240, 320)\n"
     ]
    }
   ],
   "source": [
    "def read_as_list(filename):\n",
    "    \"\"\"Read the file at filename and store its contents into a list.\"\"\"\n",
    "    with open(filename) as f:\n",
    "        result = [line.rstrip() for line in f.readlines()]\n",
    "        f.close()\n",
    "        return result\n",
    "\n",
    "def load_frames(frame_paths, num_frames):\n",
    "    \"\"\"Loads frames from file and returns a list of the frames.\"\"\"\n",
    "    #print('Running load_frames')\n",
    "    frames = [Image.open(frame).convert('RGB') for frame in frame_paths]\n",
    "    if len(frames) >= num_frames:\n",
    "        return frames[::int(np.ceil(len(frames) / float(num_frames)))]\n",
    "    else:\n",
    "        raise ValueError('Video must have at least {} frames'.format(num_frames)) \n",
    "\n",
    "def extract_frames(video_file, framesFolder, framerate):\n",
    "    \"\"\"Takes a video and converts it into a list of frames.\"\"\"\n",
    "    if os.path.exists(framesFolder):\n",
    "        subprocess.call(['rm', '-rf', framesFolder + '*.jpg'])\n",
    "    try:\n",
    "        os.makedirs(os.path.join(framesFolder))\n",
    "    except OSError:\n",
    "        pass\n",
    "    output = subprocess.Popen(['ffmpeg', '-i', video_file], stderr=subprocess.PIPE).communicate()\n",
    "    # Search and parse 'Duration: 00:05:24.13,' from ffmpeg stderr\n",
    "    re_duration = re.compile('Duration: (.*?)\\.')\n",
    "    duration = re_duration.search(str(output[1])).groups()[0]\n",
    "    seconds = functools.reduce(lambda x, y: x * 60 + y,\n",
    "                               map(int, duration.split(':')))\n",
    "    #rate = num_frames / float(seconds)\n",
    "    rate = framerate\n",
    "    num_frames = seconds * framerate\n",
    "    output = subprocess.Popen(['ffmpeg', '-i', video_file,\n",
    "                               '-vf', 'fps={}'.format(rate),\n",
    "                               '-vframes', str(num_frames),\n",
    "                               '-loglevel', 'panic', \n",
    "                               os.path.join(framesFolder,'%d.jpg') ]).communicate()\n",
    "    frame_paths = sorted([os.path.join(framesFolder, frame)\n",
    "                          for frame in os.listdir(framesFolder)])\n",
    "    frames = load_frames(frame_paths, num_frames)\n",
    "    subprocess.call(['rm', '-rf', framesFolder + '*.jpg'])\n",
    "    return frames\n",
    "\n",
    "def remove(path):\n",
    "    \"\"\" param <path> could either be relative or absolute. \"\"\"\n",
    "    if os.path.isfile(path) or os.path.islink(path):\n",
    "        os.remove(path)  # remove the file\n",
    "    elif os.path.isdir(path):\n",
    "        shutil.rmtree(path)  # remove dir and all contains\n",
    "    else:\n",
    "        raise ValueError(\"file {} is not a file or dir.\".format(path))\n",
    "\n",
    "def parse(video_file):\n",
    "    \"\"\"Extracts a numpy array representation from a given video file.\"\"\"\n",
    "    # Extract frames from video\n",
    "    framerate = 25 # frames per second (fps)\n",
    "    framesFolder = os.getcwd() + '/frames'\n",
    "    frames = extract_frames(video_file, framesFolder, framerate)\n",
    "    # Transform frames into tensors with values [0,1]\n",
    "    # Load an image transformer\n",
    "    transform = trn.ToTensor()\n",
    "    tframes = []\n",
    "    for frame in frames:\n",
    "        #frame = frame.resize((224,224))\n",
    "        tframes.append(frame)\n",
    "    tmpdata = torch.stack([transform(frame) for frame in tframes] )\n",
    "    tmpdata = tmpdata.numpy()\n",
    "    remove(framesFolder)\n",
    "    return tmpdata\n",
    "\n",
    "video_array = parse(video_file)\n",
    "print('Video shape:', video_array.shape)"
   ]
  },
  {
   "cell_type": "markdown",
   "metadata": {},
   "source": [
    "## Prepare Model(s)"
   ]
  },
  {
   "cell_type": "markdown",
   "metadata": {},
   "source": [
    "### Select Trained Model(s)"
   ]
  },
  {
   "cell_type": "code",
   "execution_count": 6,
   "metadata": {},
   "outputs": [],
   "source": [
    "# TODO:\n",
    "# Select models from: ['DenseNet169', 'DenseNet201', 'InceptionV3', 'InceptionResNetV2', 'MobileNet', \n",
    "#                      'MobileNetV2', 'Resnet50', 'VGG19', 'Xception', 'I3D-InceptionV1', 'C3D', 'LRCN',\n",
    "#                      'InceptionResnetV2-64avg']\n",
    "\n",
    "model_names = ['DenseNet169', 'DenseNet201', 'InceptionV3', 'InceptionResNetV2', 'MobileNet', \n",
    "               'MobileNetV2', 'Resnet50', 'VGG19', 'Xception', 'I3D-InceptionV1', 'C3D', 'LRCN',\n",
    "               'InceptionResNetV2-64avg']\n",
    "\n",
    "# TODO:\n",
    "# Specify model directory\n",
    "model_folder = '/home/gridsan/groups/Moments_in_Time/Model-Zoo-v2/models/'"
   ]
  },
  {
   "cell_type": "markdown",
   "metadata": {},
   "source": [
    "### Load and Compile Model(s)"
   ]
  },
  {
   "cell_type": "code",
   "execution_count": 7,
   "metadata": {},
   "outputs": [
    {
     "name": "stdout",
     "output_type": "stream",
     "text": [
      "WARNING:tensorflow:From /state/partition1/llgrid/pkg/anaconda/anaconda3-2020a/lib/python3.6/site-packages/tensorflow/python/ops/init_ops.py:97: calling GlorotUniform.__init__ (from tensorflow.python.ops.init_ops) with dtype is deprecated and will be removed in a future version.\n",
      "Instructions for updating:\n",
      "Call initializer instance with the dtype argument instead of passing it to the constructor\n",
      "WARNING:tensorflow:From /state/partition1/llgrid/pkg/anaconda/anaconda3-2020a/lib/python3.6/site-packages/tensorflow/python/ops/init_ops.py:1251: calling VarianceScaling.__init__ (from tensorflow.python.ops.init_ops) with dtype is deprecated and will be removed in a future version.\n",
      "Instructions for updating:\n",
      "Call initializer instance with the dtype argument instead of passing it to the constructor\n",
      "WARNING:tensorflow:From /state/partition1/llgrid/pkg/anaconda/anaconda3-2020a/lib/python3.6/site-packages/tensorflow/python/ops/init_ops.py:97: calling Zeros.__init__ (from tensorflow.python.ops.init_ops) with dtype is deprecated and will be removed in a future version.\n",
      "Instructions for updating:\n",
      "Call initializer instance with the dtype argument instead of passing it to the constructor\n",
      "WARNING:tensorflow:From /state/partition1/llgrid/pkg/anaconda/anaconda3-2020a/lib/python3.6/site-packages/tensorflow/python/ops/init_ops.py:97: calling Ones.__init__ (from tensorflow.python.ops.init_ops) with dtype is deprecated and will be removed in a future version.\n",
      "Instructions for updating:\n",
      "Call initializer instance with the dtype argument instead of passing it to the constructor\n",
      "WARNING:tensorflow:From /state/partition1/llgrid/pkg/anaconda/anaconda3-2020a/lib/python3.6/site-packages/tensorflow/python/ops/init_ops.py:97: calling Orthogonal.__init__ (from tensorflow.python.ops.init_ops) with dtype is deprecated and will be removed in a future version.\n",
      "Instructions for updating:\n",
      "Call initializer instance with the dtype argument instead of passing it to the constructor\n",
      "WARNING:tensorflow:From /state/partition1/llgrid/pkg/anaconda/anaconda3-2020a/lib/python3.6/site-packages/tensorflow/python/ops/math_grad.py:1250: add_dispatch_support.<locals>.wrapper (from tensorflow.python.ops.array_ops) is deprecated and will be removed in a future version.\n",
      "Instructions for updating:\n",
      "Use tf.where in 2.0, which has the same broadcast rule as np.where\n",
      "WARNING:tensorflow:No training configuration found in save file: the model was *not* compiled. Compile it manually.\n",
      "----------------------------\n",
      "13 model(s) loaded and compiled\n"
     ]
    }
   ],
   "source": [
    "def get_model(model_name):\n",
    "    if model_name == 'DenseNet169':\n",
    "        return load_model(model_folder + 'D169-224x224x3-339-im.h5')\n",
    "    elif model_name == 'DenseNet201':\n",
    "        return load_model(model_folder + 'D201-224x224x3-339-im.h5')\n",
    "    elif model_name == 'InceptionV3':\n",
    "        return load_model(model_folder + 'Iv3-224x224x3-339-im.h5')\n",
    "    elif model_name == 'InceptionResNetV2':\n",
    "        return load_model(model_folder + 'IRv2-224x224x3-339-im.h5')\n",
    "    elif model_name == 'MobileNet':\n",
    "        return load_model(model_folder + 'M-224x224x3-339-im.h5')\n",
    "    elif model_name == 'MobileNetV2':\n",
    "        return load_model(model_folder + 'Mv2-224x224x3-339-im.h5')\n",
    "    elif model_name == 'Resnet50':\n",
    "        return load_model(model_folder + 'R50-224x224x3-339-im.h5')\n",
    "    elif model_name == 'VGG19':\n",
    "        return load_model(model_folder + 'VGG19-224x224x3-339-im.h5')\n",
    "    elif model_name == 'Xception':\n",
    "        return load_model(model_folder + 'X-224x224x3-339-im.h5')\n",
    "    elif model_name == 'C3D':\n",
    "        return load_model(model_folder + 'C3D-16x224x224x3-339-m.h5')\n",
    "    elif model_name == 'I3D-InceptionV1':\n",
    "        return load_model(model_folder + 'I3DIv1-16x224x224x3-339-ikm.h5')\n",
    "    elif model_name == 'LRCN':\n",
    "        return load_model(model_folder + 'LRCN-16x224x224x3-339-m.h5')\n",
    "    elif model_name == 'InceptionResNetV2-64avg':\n",
    "        return load_model(model_folder + 'IRv2avg-64x224x224x3-339-im.h5')\n",
    "    print('Should not reach here')\n",
    "    return None\n",
    "\n",
    "def transformer(model_name):\n",
    "    if model_name in ['DenseNet169', 'DenseNet201', 'InceptionV3', 'InceptionResNetV2', 'MobileNet', \n",
    "                      'MobileNetV2', 'Resnet50', 'VGG19', 'Xception']:\n",
    "        return 1\n",
    "    elif model_name in ['I3D-InceptionV1', 'C3D', 'LRCN']:\n",
    "        return 2\n",
    "    elif model_name in ['InceptionResNetV2-64avg']:\n",
    "        return 3\n",
    "    else:\n",
    "        print('Should not reach here')\n",
    "        return None\n",
    "    \n",
    "met = get_metrics()\n",
    "models = [get_model(m) for m in model_names]\n",
    "transforms = [transformer(m) for m in model_names]\n",
    "for model in models:\n",
    "    model.compile(optimizer=SGD(), loss='categorical_crossentropy', metrics=met)\n",
    "print('----------------------------')\n",
    "print(len(models), 'model(s) loaded and compiled')"
   ]
  },
  {
   "cell_type": "markdown",
   "metadata": {},
   "source": [
    "## Inference\n",
    "\n",
    "Note that there is still randomness in the frame(s) being selected for inference.  Therefore, running this cell multiple times will give slightly different results."
   ]
  },
  {
   "cell_type": "code",
   "execution_count": 8,
   "metadata": {},
   "outputs": [],
   "source": [
    "# TODO:\n",
    "# Specify number of top prediction classes to show\n",
    "k = 5"
   ]
  },
  {
   "cell_type": "code",
   "execution_count": 9,
   "metadata": {},
   "outputs": [
    {
     "name": "stdout",
     "output_type": "stream",
     "text": [
      "Model Name\n",
      "(class_name, prediction_rank, probability)\n",
      "------------------------------------------\n",
      "\n",
      "DenseNet169\n",
      "('skiing', 1, 0.9085125)\n",
      "('boarding', 2, 0.025353933)\n",
      "('sliding', 3, 0.0076259063)\n",
      "('slipping', 4, 0.005177059)\n",
      "('skating', 5, 0.0050613997)\n",
      "\n",
      "DenseNet201\n",
      "('skiing', 1, 0.58287513)\n",
      "('sliding', 2, 0.05612815)\n",
      "('slipping', 3, 0.043456513)\n",
      "('skating', 4, 0.03366632)\n",
      "('descending', 5, 0.018783813)\n",
      "\n",
      "InceptionV3\n",
      "('skiing', 1, 0.5834716)\n",
      "('sliding', 2, 0.028677518)\n",
      "('slipping', 3, 0.028165314)\n",
      "('skating', 4, 0.023576682)\n",
      "('boarding', 5, 0.021372344)\n",
      "\n",
      "InceptionResNetV2\n",
      "('skiing', 1, 0.6004424)\n",
      "('boarding', 2, 0.053444456)\n",
      "('jumping', 3, 0.034714162)\n",
      "('skating', 4, 0.02377763)\n",
      "('falling', 5, 0.023125973)\n",
      "\n",
      "MobileNet\n",
      "('skiing', 1, 0.2398886)\n",
      "('officiating', 2, 0.14038408)\n",
      "('slipping', 3, 0.10001288)\n",
      "('boarding', 4, 0.095631294)\n",
      "('sliding', 5, 0.038019247)\n",
      "\n",
      "MobileNetV2\n",
      "('skiing', 1, 0.16444364)\n",
      "('sliding', 2, 0.07168311)\n",
      "('boarding', 3, 0.06656089)\n",
      "('slipping', 4, 0.06320612)\n",
      "('skating', 5, 0.036344867)\n",
      "\n",
      "Resnet50\n",
      "('skiing', 1, 0.6975399)\n",
      "('slipping', 2, 0.035883404)\n",
      "('skating', 3, 0.023647005)\n",
      "('balancing', 4, 0.015892975)\n",
      "('officiating', 5, 0.015808614)\n",
      "\n",
      "VGG19\n",
      "('slipping', 1, 0.113963984)\n",
      "('boarding', 2, 0.105429515)\n",
      "('skiing', 3, 0.0875464)\n",
      "('sliding', 4, 0.06347631)\n",
      "('skating', 5, 0.043519128)\n",
      "\n",
      "Xception\n",
      "('skiing', 1, 0.45929837)\n",
      "('slipping', 2, 0.13140288)\n",
      "('racing', 3, 0.03646811)\n",
      "('boarding', 4, 0.02920106)\n",
      "('playing+sports', 5, 0.027381152)\n",
      "\n",
      "I3D-InceptionV1\n",
      "('skiing', 1, 0.6306972)\n",
      "('boarding', 2, 0.04456868)\n",
      "('sliding', 3, 0.03136454)\n",
      "('skating', 4, 0.029156972)\n",
      "('playing+sports', 5, 0.028053453)\n",
      "\n",
      "C3D\n",
      "('skiing', 1, 0.1877743)\n",
      "('skating', 2, 0.07308701)\n",
      "('crashing', 3, 0.032002218)\n",
      "('boarding', 4, 0.02330643)\n",
      "('flipping', 5, 0.02312484)\n",
      "\n",
      "LRCN\n",
      "('skiing', 1, 0.3637656)\n",
      "('skating', 2, 0.07882427)\n",
      "('slipping', 3, 0.041725338)\n",
      "('jumping', 4, 0.03955111)\n",
      "('sliding', 5, 0.035640597)\n",
      "\n",
      "InceptionResNetV2-64avg\n",
      "('skiing', 1, 0.57533085)\n",
      "('boarding', 2, 0.074289046)\n",
      "('slipping', 3, 0.035638716)\n",
      "('jumping', 4, 0.028740693)\n",
      "('sliding', 5, 0.019542733)\n",
      "\n"
     ]
    }
   ],
   "source": [
    "# Performs Inference and Displays Results\n",
    "\n",
    "def label_to_cat(index, classes):\n",
    "    for cat in categories_labels.keys():\n",
    "        if categories_labels[cat][index]==1:\n",
    "            return cat\n",
    "def top_classes(tups, k=5):\n",
    "    top_k = []\n",
    "    for i in range(len(tups)):\n",
    "        if tups[i][1] <= k:\n",
    "            top_k.append(tups[i])\n",
    "    return sorted(top_k, key=lambda tup: tup[1])\n",
    "\n",
    "\n",
    "label = categories_labels[mit_class_gt]\n",
    "datum = [video_array], 0, label\n",
    "\n",
    "print('Model Name')\n",
    "print('(class_name, prediction_rank, probability)')\n",
    "print('------------------------------------------')\n",
    "print()\n",
    "\n",
    "for i in range(len(models)):\n",
    "    model_name = model_names[i]\n",
    "    model = models[i]\n",
    "    t = transforms[i]\n",
    "    y_hats = []\n",
    "    for i in range(5): # sample averaging\n",
    "        arr, label = transform(datum, transform_num=t)\n",
    "        X = np.array([arr])\n",
    "        y = np.array([label])\n",
    "        y_hat = model.predict(X, batch_size=1)\n",
    "        y_hats.append(y_hat)\n",
    "    y_hat = np.average(y_hats, axis=0)\n",
    "    order = y_hat.argsort()\n",
    "    rev_ranks = order.argsort()\n",
    "    classes = len(y_hat[0])\n",
    "    tups = []\n",
    "    for i in range(classes):\n",
    "        cat = label_to_cat(i, classes)\n",
    "        tups.append( (cat, 339-rev_ranks[0][i], y_hat[0][i]) )\n",
    "    short_list = top_classes(tups, k)\n",
    "    print(model_name)\n",
    "    for tup in short_list:\n",
    "        print(tup)\n",
    "    print()"
   ]
  },
  {
   "cell_type": "markdown",
   "metadata": {},
   "source": [
    "## Questions\n",
    "\n",
    "Any questions can be directed to Matthew Hutchinson at <hutchinson@alum.mit.edu>."
   ]
  },
  {
   "cell_type": "markdown",
   "metadata": {},
   "source": [
    "Python license: https://docs.python.org/3/license.html\n",
    "\n",
    "TensorFlow license: https://github.com/tensorflow/tensorflow/blob/master/LICENSE\n",
    "\n",
    "NumPy license: https://numpy.org/doc/stable/license.html\n",
    "\n",
    "PIL license: http://www.pythonware.com/products/pil/license.htm\n",
    "\n",
    "PyTorch license: https://github.com/pytorch/pytorch/blob/master/LICENSE\n",
    "\n",
    "H5Py license: https://docs.h5py.org/en/stable/licenses.html"
   ]
  },
  {
   "cell_type": "code",
   "execution_count": null,
   "metadata": {},
   "outputs": [],
   "source": []
  }
 ],
 "metadata": {
  "kernelspec": {
   "display_name": "Python 3",
   "language": "python",
   "name": "python3"
  },
  "language_info": {
   "codemirror_mode": {
    "name": "ipython",
    "version": 3
   },
   "file_extension": ".py",
   "mimetype": "text/x-python",
   "name": "python",
   "nbconvert_exporter": "python",
   "pygments_lexer": "ipython3",
   "version": "3.6.9"
  },
  "latex_envs": {
   "LaTeX_envs_menu_present": true,
   "autoclose": false,
   "autocomplete": true,
   "bibliofile": "biblio.bib",
   "cite_by": "apalike",
   "current_citInitial": 1,
   "eqLabelWithNumbers": true,
   "eqNumInitial": 1,
   "hotkeys": {
    "equation": "Ctrl-E",
    "itemize": "Ctrl-I"
   },
   "labels_anchors": false,
   "latex_user_defs": false,
   "report_style_numbering": false,
   "user_envs_cfg": false
  },
  "toc": {
   "base_numbering": 1,
   "nav_menu": {},
   "number_sections": true,
   "sideBar": true,
   "skip_h1_title": false,
   "title_cell": "Table of Contents",
   "title_sidebar": "Contents",
   "toc_cell": false,
   "toc_position": {},
   "toc_section_display": true,
   "toc_window_display": false
  },
  "varInspector": {
   "cols": {
    "lenName": 16,
    "lenType": 16,
    "lenVar": 40
   },
   "kernels_config": {
    "python": {
     "delete_cmd_postfix": "",
     "delete_cmd_prefix": "del ",
     "library": "var_list.py",
     "varRefreshCmd": "print(var_dic_list())"
    },
    "r": {
     "delete_cmd_postfix": ") ",
     "delete_cmd_prefix": "rm(",
     "library": "var_list.r",
     "varRefreshCmd": "cat(var_dic_list()) "
    }
   },
   "types_to_exclude": [
    "module",
    "function",
    "builtin_function_or_method",
    "instance",
    "_Feature"
   ],
   "window_display": false
  }
 },
 "nbformat": 4,
 "nbformat_minor": 2
}
